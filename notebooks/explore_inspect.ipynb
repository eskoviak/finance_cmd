{
 "cells": [
  {
   "cell_type": "code",
   "execution_count": 1,
   "metadata": {},
   "outputs": [],
   "source": [
    "import inspect\n",
    "\n"
   ]
  },
  {
   "cell_type": "code",
   "execution_count": 14,
   "metadata": {},
   "outputs": [],
   "source": [
    "class MyTestClass():\n",
    "    \n",
    "    id : int\n",
    "    name : str\n",
    "\n",
    "\n",
    "    def __init__(self, id, name):\n",
    "        self.id = id\n",
    "        self.name = name\n",
    "\n",
    "    def __init(self):\n",
    "        pass\n",
    "\n",
    "    def __repr__(self):\n",
    "        return f'MyTestClass: (id: {self.id}, name: {self.name})'\n",
    "    \n",
    "class MyTestClass1():\n",
    "    \n",
    "    id : int\n",
    "    name : str\n",
    "\n",
    "    def __repr__(self):\n",
    "        return f'MyTestClass: (id: {self.id}, name: {self.name})'\n",
    "\n",
    "        "
   ]
  },
  {
   "cell_type": "code",
   "execution_count": 11,
   "metadata": {},
   "outputs": [
    {
     "name": "stdout",
     "output_type": "stream",
     "text": [
      "MyTestClass: (id: 1, name: Ted)\n"
     ]
    }
   ],
   "source": [
    "my = MyTestClass(1,'Ted')\n",
    "\n",
    "print(my)\n",
    "\n"
   ]
  },
  {
   "cell_type": "code",
   "execution_count": 12,
   "metadata": {},
   "outputs": [
    {
     "name": "stdout",
     "output_type": "stream",
     "text": [
      "{'id': 1, 'name': 'Ted'}\n"
     ]
    }
   ],
   "source": [
    "print(my.__dict__)"
   ]
  },
  {
   "cell_type": "code",
   "execution_count": 15,
   "metadata": {},
   "outputs": [
    {
     "ename": "AttributeError",
     "evalue": "'MyTestClass1' object has no attribute 'id'",
     "output_type": "error",
     "traceback": [
      "\u001b[0;31m---------------------------------------------------------------------------\u001b[0m",
      "\u001b[0;31mAttributeError\u001b[0m                            Traceback (most recent call last)",
      "Cell \u001b[0;32mIn[15], line 3\u001b[0m\n\u001b[1;32m      1\u001b[0m my1 \u001b[39m=\u001b[39m MyTestClass1()\n\u001b[0;32m----> 3\u001b[0m \u001b[39mprint\u001b[39;49m(my1)\n",
      "Cell \u001b[0;32mIn[14], line 23\u001b[0m, in \u001b[0;36mMyTestClass1.__repr__\u001b[0;34m(self)\u001b[0m\n\u001b[1;32m     22\u001b[0m \u001b[39mdef\u001b[39;00m \u001b[39m__repr__\u001b[39m(\u001b[39mself\u001b[39m):\n\u001b[0;32m---> 23\u001b[0m     \u001b[39mreturn\u001b[39;00m \u001b[39mf\u001b[39m\u001b[39m'\u001b[39m\u001b[39mMyTestClass: (id: \u001b[39m\u001b[39m{\u001b[39;00m\u001b[39mself\u001b[39;49m\u001b[39m.\u001b[39;49mid\u001b[39m}\u001b[39;00m\u001b[39m, name: \u001b[39m\u001b[39m{\u001b[39;00m\u001b[39mself\u001b[39m\u001b[39m.\u001b[39mname\u001b[39m}\u001b[39;00m\u001b[39m)\u001b[39m\u001b[39m'\u001b[39m\n",
      "\u001b[0;31mAttributeError\u001b[0m: 'MyTestClass1' object has no attribute 'id'"
     ]
    }
   ],
   "source": [
    "my1 = MyTestClass1()\n",
    "\n",
    "print(my1)"
   ]
  }
 ],
 "metadata": {
  "kernelspec": {
   "display_name": "vpython3.10",
   "language": "python",
   "name": "python3"
  },
  "language_info": {
   "codemirror_mode": {
    "name": "ipython",
    "version": 3
   },
   "file_extension": ".py",
   "mimetype": "text/x-python",
   "name": "python",
   "nbconvert_exporter": "python",
   "pygments_lexer": "ipython3",
   "version": "3.10.0"
  },
  "orig_nbformat": 4,
  "vscode": {
   "interpreter": {
    "hash": "d04de1efe396859703aef985adfd3512741c6df91b199e7e529a97e455b907a1"
   }
  }
 },
 "nbformat": 4,
 "nbformat_minor": 2
}
