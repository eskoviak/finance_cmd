{
 "cells": [
  {
   "cell_type": "code",
   "execution_count": 15,
   "metadata": {},
   "outputs": [],
   "source": [
    "import pandas as pd\n",
    "from pathlib import Path\n",
    "import os\n",
    "\n",
    "home = Path(os.environ['HOME']+'/Documents/repos/finance_cmd')"
   ]
  },
  {
   "cell_type": "code",
   "execution_count": 25,
   "metadata": {},
   "outputs": [],
   "source": [
    "df = pd.read_csv( home / 'data' / 'chart_of_accounts.csv',\n",
    "  dtype={'AltLedgerAcct': str}\n",
    ")\n",
    "\n",
    "df.fillna({'Category':'', 'Dimension1':'', 'Dimension2':''}, inplace=True)"
   ]
  },
  {
   "cell_type": "code",
   "execution_count": 27,
   "metadata": {},
   "outputs": [
    {
     "name": "stdout",
     "output_type": "stream",
     "text": [
      "<class 'pandas.core.frame.DataFrame'>\n",
      "RangeIndex: 139 entries, 0 to 138\n",
      "Data columns (total 8 columns):\n",
      " #   Column         Non-Null Count  Dtype \n",
      "---  ------         --------------  ----- \n",
      " 0   AccountTitle   139 non-null    object\n",
      " 1   LedgerAcct     139 non-null    object\n",
      " 2   AltLedgerAcct  139 non-null    object\n",
      " 3   Depth          139 non-null    int64 \n",
      " 4   Balance        139 non-null    object\n",
      " 5   Category       139 non-null    object\n",
      " 6   Dimension1     139 non-null    object\n",
      " 7   Dimension2     139 non-null    object\n",
      "dtypes: int64(1), object(7)\n",
      "memory usage: 8.8+ KB\n"
     ]
    }
   ],
   "source": [
    "df.info()\n"
   ]
  },
  {
   "cell_type": "code",
   "execution_count": 26,
   "metadata": {},
   "outputs": [
    {
     "data": {
      "text/html": [
       "<div>\n",
       "<style scoped>\n",
       "    .dataframe tbody tr th:only-of-type {\n",
       "        vertical-align: middle;\n",
       "    }\n",
       "\n",
       "    .dataframe tbody tr th {\n",
       "        vertical-align: top;\n",
       "    }\n",
       "\n",
       "    .dataframe thead th {\n",
       "        text-align: right;\n",
       "    }\n",
       "</style>\n",
       "<table border=\"1\" class=\"dataframe\">\n",
       "  <thead>\n",
       "    <tr style=\"text-align: right;\">\n",
       "      <th></th>\n",
       "      <th>AccountTitle</th>\n",
       "      <th>LedgerAcct</th>\n",
       "      <th>AltLedgerAcct</th>\n",
       "      <th>Depth</th>\n",
       "      <th>Balance</th>\n",
       "      <th>Category</th>\n",
       "      <th>Dimension1</th>\n",
       "      <th>Dimension2</th>\n",
       "    </tr>\n",
       "  </thead>\n",
       "  <tbody>\n",
       "    <tr>\n",
       "      <th>0</th>\n",
       "      <td>Assets</td>\n",
       "      <td>1</td>\n",
       "      <td>010000</td>\n",
       "      <td>0</td>\n",
       "      <td>Dr</td>\n",
       "      <td></td>\n",
       "      <td></td>\n",
       "      <td></td>\n",
       "    </tr>\n",
       "    <tr>\n",
       "      <th>1</th>\n",
       "      <td>Cash And Financial Assets</td>\n",
       "      <td>1.1</td>\n",
       "      <td>010100</td>\n",
       "      <td>1</td>\n",
       "      <td>Dr</td>\n",
       "      <td></td>\n",
       "      <td></td>\n",
       "      <td></td>\n",
       "    </tr>\n",
       "    <tr>\n",
       "      <th>2</th>\n",
       "      <td>Cash and Cash Equivalents</td>\n",
       "      <td>1.1.1</td>\n",
       "      <td>010101</td>\n",
       "      <td>2</td>\n",
       "      <td>Dr</td>\n",
       "      <td>Petty Cash, Equity Purchase</td>\n",
       "      <td>Checking</td>\n",
       "      <td></td>\n",
       "    </tr>\n",
       "    <tr>\n",
       "      <th>3</th>\n",
       "      <td>Financial Assets (Investments)</td>\n",
       "      <td>1.1.2</td>\n",
       "      <td>010102</td>\n",
       "      <td>2</td>\n",
       "      <td>Dr</td>\n",
       "      <td></td>\n",
       "      <td></td>\n",
       "      <td></td>\n",
       "    </tr>\n",
       "    <tr>\n",
       "      <th>4</th>\n",
       "      <td>Restricted Cash and Financial Assets</td>\n",
       "      <td>1.1.3</td>\n",
       "      <td>010103</td>\n",
       "      <td>2</td>\n",
       "      <td>Dr</td>\n",
       "      <td>Amex HYSA, Amer 7133</td>\n",
       "      <td>Savings</td>\n",
       "      <td></td>\n",
       "    </tr>\n",
       "  </tbody>\n",
       "</table>\n",
       "</div>"
      ],
      "text/plain": [
       "                           AccountTitle LedgerAcct AltLedgerAcct  Depth  \\\n",
       "0                                Assets          1        010000      0   \n",
       "1             Cash And Financial Assets        1.1        010100      1   \n",
       "2             Cash and Cash Equivalents      1.1.1        010101      2   \n",
       "3        Financial Assets (Investments)      1.1.2        010102      2   \n",
       "4  Restricted Cash and Financial Assets      1.1.3        010103      2   \n",
       "\n",
       "  Balance                     Category Dimension1 Dimension2  \n",
       "0      Dr                                                     \n",
       "1      Dr                                                     \n",
       "2      Dr  Petty Cash, Equity Purchase   Checking             \n",
       "3      Dr                                                     \n",
       "4      Dr         Amex HYSA, Amer 7133    Savings             "
      ]
     },
     "execution_count": 26,
     "metadata": {},
     "output_type": "execute_result"
    }
   ],
   "source": [
    "df.head()\n"
   ]
  },
  {
   "cell_type": "code",
   "execution_count": 10,
   "metadata": {},
   "outputs": [
    {
     "name": "stdout",
     "output_type": "stream",
     "text": [
      "0                                                 Assets\n",
      "1                              Cash And Financial Assets\n",
      "2                              Cash and Cash Equivalents\n",
      "3                         Financial Assets (Investments)\n",
      "4                   Restricted Cash and Financial Assets\n",
      "                             ...                        \n",
      "134    Intercompany And Related Party Income And Expense\n",
      "135                Intercompany And Related Party Income\n",
      "136              Intercompany And Related Party Expenses\n",
      "137         Income (Loss) From Equity Method Investments\n",
      "138      Acquisitions In Progress (Business Combination)\n",
      "Name: AccountTitle, Length: 139, dtype: object\n"
     ]
    }
   ],
   "source": [
    "print((df['AccountTitle']))"
   ]
  },
  {
   "cell_type": "code",
   "execution_count": 12,
   "metadata": {},
   "outputs": [
    {
     "name": "stdout",
     "output_type": "stream",
     "text": [
      "73\n"
     ]
    }
   ],
   "source": [
    "items = []\n",
    "for item in df['AccountTitle']:\n",
    "    items.append(len(str(item)))\n",
    "\n",
    "print(max(items))"
   ]
  },
  {
   "cell_type": "code",
   "execution_count": 13,
   "metadata": {},
   "outputs": [],
   "source": [
    "df.loc[:,'AltLedgerAcct'] = '0'+str(df.AltLedgerAcct)"
   ]
  },
  {
   "cell_type": "code",
   "execution_count": 14,
   "metadata": {},
   "outputs": [
    {
     "data": {
      "text/html": [
       "<div>\n",
       "<style scoped>\n",
       "    .dataframe tbody tr th:only-of-type {\n",
       "        vertical-align: middle;\n",
       "    }\n",
       "\n",
       "    .dataframe tbody tr th {\n",
       "        vertical-align: top;\n",
       "    }\n",
       "\n",
       "    .dataframe thead th {\n",
       "        text-align: right;\n",
       "    }\n",
       "</style>\n",
       "<table border=\"1\" class=\"dataframe\">\n",
       "  <thead>\n",
       "    <tr style=\"text-align: right;\">\n",
       "      <th></th>\n",
       "      <th>AccountTitle</th>\n",
       "      <th>LedgerAcct</th>\n",
       "      <th>AltLedgerAcct</th>\n",
       "      <th>Depth</th>\n",
       "      <th>Balance</th>\n",
       "      <th>Category</th>\n",
       "      <th>Dimension1</th>\n",
       "      <th>Dimension2</th>\n",
       "    </tr>\n",
       "  </thead>\n",
       "  <tbody>\n",
       "    <tr>\n",
       "      <th>0</th>\n",
       "      <td>Assets</td>\n",
       "      <td>1</td>\n",
       "      <td>00      10000\\n1      10100\\n2      10101\\n3  ...</td>\n",
       "      <td>0</td>\n",
       "      <td>Dr</td>\n",
       "      <td>NaN</td>\n",
       "      <td>NaN</td>\n",
       "      <td>NaN</td>\n",
       "    </tr>\n",
       "    <tr>\n",
       "      <th>1</th>\n",
       "      <td>Cash And Financial Assets</td>\n",
       "      <td>1.1</td>\n",
       "      <td>00      10000\\n1      10100\\n2      10101\\n3  ...</td>\n",
       "      <td>1</td>\n",
       "      <td>Dr</td>\n",
       "      <td>NaN</td>\n",
       "      <td>NaN</td>\n",
       "      <td>NaN</td>\n",
       "    </tr>\n",
       "    <tr>\n",
       "      <th>2</th>\n",
       "      <td>Cash and Cash Equivalents</td>\n",
       "      <td>1.1.1</td>\n",
       "      <td>00      10000\\n1      10100\\n2      10101\\n3  ...</td>\n",
       "      <td>2</td>\n",
       "      <td>Dr</td>\n",
       "      <td>Petty Cash, Equity Purchase</td>\n",
       "      <td>Checking</td>\n",
       "      <td>NaN</td>\n",
       "    </tr>\n",
       "    <tr>\n",
       "      <th>3</th>\n",
       "      <td>Financial Assets (Investments)</td>\n",
       "      <td>1.1.2</td>\n",
       "      <td>00      10000\\n1      10100\\n2      10101\\n3  ...</td>\n",
       "      <td>2</td>\n",
       "      <td>Dr</td>\n",
       "      <td>NaN</td>\n",
       "      <td>NaN</td>\n",
       "      <td>NaN</td>\n",
       "    </tr>\n",
       "    <tr>\n",
       "      <th>4</th>\n",
       "      <td>Restricted Cash and Financial Assets</td>\n",
       "      <td>1.1.3</td>\n",
       "      <td>00      10000\\n1      10100\\n2      10101\\n3  ...</td>\n",
       "      <td>2</td>\n",
       "      <td>Dr</td>\n",
       "      <td>Amex HYSA, Amer 7133</td>\n",
       "      <td>Savings</td>\n",
       "      <td>NaN</td>\n",
       "    </tr>\n",
       "  </tbody>\n",
       "</table>\n",
       "</div>"
      ],
      "text/plain": [
       "                           AccountTitle LedgerAcct  \\\n",
       "0                                Assets          1   \n",
       "1             Cash And Financial Assets        1.1   \n",
       "2             Cash and Cash Equivalents      1.1.1   \n",
       "3        Financial Assets (Investments)      1.1.2   \n",
       "4  Restricted Cash and Financial Assets      1.1.3   \n",
       "\n",
       "                                       AltLedgerAcct  Depth Balance  \\\n",
       "0  00      10000\\n1      10100\\n2      10101\\n3  ...      0      Dr   \n",
       "1  00      10000\\n1      10100\\n2      10101\\n3  ...      1      Dr   \n",
       "2  00      10000\\n1      10100\\n2      10101\\n3  ...      2      Dr   \n",
       "3  00      10000\\n1      10100\\n2      10101\\n3  ...      2      Dr   \n",
       "4  00      10000\\n1      10100\\n2      10101\\n3  ...      2      Dr   \n",
       "\n",
       "                      Category Dimension1 Dimension2  \n",
       "0                          NaN        NaN        NaN  \n",
       "1                          NaN        NaN        NaN  \n",
       "2  Petty Cash, Equity Purchase   Checking        NaN  \n",
       "3                          NaN        NaN        NaN  \n",
       "4         Amex HYSA, Amer 7133    Savings        NaN  "
      ]
     },
     "execution_count": 14,
     "metadata": {},
     "output_type": "execute_result"
    }
   ],
   "source": [
    "df.head()"
   ]
  }
 ],
 "metadata": {
  "kernelspec": {
   "display_name": "vpython3.10",
   "language": "python",
   "name": "python3"
  },
  "language_info": {
   "codemirror_mode": {
    "name": "ipython",
    "version": 3
   },
   "file_extension": ".py",
   "mimetype": "text/x-python",
   "name": "python",
   "nbconvert_exporter": "python",
   "pygments_lexer": "ipython3",
   "version": "3.10.0"
  },
  "orig_nbformat": 4,
  "vscode": {
   "interpreter": {
    "hash": "d04de1efe396859703aef985adfd3512741c6df91b199e7e529a97e455b907a1"
   }
  }
 },
 "nbformat": 4,
 "nbformat_minor": 2
}
