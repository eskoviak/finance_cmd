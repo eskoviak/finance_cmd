{
 "cells": [
  {
   "cell_type": "code",
   "execution_count": 1,
   "metadata": {},
   "outputs": [],
   "source": [
    "import pandas as pd\n",
    "from pathlib import Path\n",
    "import os\n",
    "\n",
    "home = Path(os.path.abspath('..'))"
   ]
  },
  {
   "cell_type": "code",
   "execution_count": 2,
   "metadata": {},
   "outputs": [],
   "source": [
    "columns = ['Account Title', 'Account #', 'Alt Item #', 'Depth', 'Balance', 'Category', 'Dimension 1', 'Dimension 2']\n",
    "df = pd.read_csv( home / 'Data Sets' / 'chart_of_acoounts' / 'Basic with Alternative #-Table 1.csv',\n",
    "  dtype={\n",
    "      'Account Title': str,\n",
    "      'Account #' : str,\n",
    "      'Alt Item #' : str,\n",
    "      'Depth' : int,\n",
    "      'Balance' : str,\n",
    "      'Category' : str,\n",
    "      'Dimension 1' : str,\n",
    "      'Dimension 2' : str\n",
    "      }, \n",
    "  usecols=columns\n",
    ")\n",
    "\n",
    "df.fillna({'Category':'', 'Dimension1':'', 'Dimension2':''}, inplace=True)"
   ]
  },
  {
   "cell_type": "code",
   "execution_count": 3,
   "metadata": {},
   "outputs": [
    {
     "name": "stdout",
     "output_type": "stream",
     "text": [
      "<class 'pandas.core.frame.DataFrame'>\n",
      "RangeIndex: 139 entries, 0 to 138\n",
      "Data columns (total 8 columns):\n",
      " #   Column         Non-Null Count  Dtype \n",
      "---  ------         --------------  ----- \n",
      " 0   Account Title  139 non-null    object\n",
      " 1   Account #      139 non-null    object\n",
      " 2   Alt Item #     139 non-null    object\n",
      " 3   Depth          139 non-null    int64 \n",
      " 4   Balance        139 non-null    object\n",
      " 5   Category       139 non-null    object\n",
      " 6   Dimension 1    9 non-null      object\n",
      " 7   Dimension 2    2 non-null      object\n",
      "dtypes: int64(1), object(7)\n",
      "memory usage: 8.8+ KB\n"
     ]
    }
   ],
   "source": [
    "df.info()\n"
   ]
  },
  {
   "cell_type": "code",
   "execution_count": 4,
   "metadata": {},
   "outputs": [
    {
     "data": {
      "text/html": [
       "<div>\n",
       "<style scoped>\n",
       "    .dataframe tbody tr th:only-of-type {\n",
       "        vertical-align: middle;\n",
       "    }\n",
       "\n",
       "    .dataframe tbody tr th {\n",
       "        vertical-align: top;\n",
       "    }\n",
       "\n",
       "    .dataframe thead th {\n",
       "        text-align: right;\n",
       "    }\n",
       "</style>\n",
       "<table border=\"1\" class=\"dataframe\">\n",
       "  <thead>\n",
       "    <tr style=\"text-align: right;\">\n",
       "      <th></th>\n",
       "      <th>Account Title</th>\n",
       "      <th>Account #</th>\n",
       "      <th>Alt Item #</th>\n",
       "      <th>Depth</th>\n",
       "      <th>Balance</th>\n",
       "      <th>Category</th>\n",
       "      <th>Dimension 1</th>\n",
       "      <th>Dimension 2</th>\n",
       "    </tr>\n",
       "  </thead>\n",
       "  <tbody>\n",
       "    <tr>\n",
       "      <th>0</th>\n",
       "      <td>Assets</td>\n",
       "      <td>1</td>\n",
       "      <td>010000</td>\n",
       "      <td>0</td>\n",
       "      <td>Dr</td>\n",
       "      <td></td>\n",
       "      <td>NaN</td>\n",
       "      <td>NaN</td>\n",
       "    </tr>\n",
       "    <tr>\n",
       "      <th>1</th>\n",
       "      <td>Cash And Financial Assets</td>\n",
       "      <td>1.1</td>\n",
       "      <td>010100</td>\n",
       "      <td>1</td>\n",
       "      <td>Dr</td>\n",
       "      <td></td>\n",
       "      <td>NaN</td>\n",
       "      <td>NaN</td>\n",
       "    </tr>\n",
       "    <tr>\n",
       "      <th>2</th>\n",
       "      <td>Cash and Cash Equivalents</td>\n",
       "      <td>1.1.1</td>\n",
       "      <td>010101</td>\n",
       "      <td>2</td>\n",
       "      <td>Dr</td>\n",
       "      <td>Petty Cash</td>\n",
       "      <td>Checking</td>\n",
       "      <td>NaN</td>\n",
       "    </tr>\n",
       "    <tr>\n",
       "      <th>3</th>\n",
       "      <td>Financial Assets (Investments)</td>\n",
       "      <td>1.1.2</td>\n",
       "      <td>010102</td>\n",
       "      <td>2</td>\n",
       "      <td>Dr</td>\n",
       "      <td></td>\n",
       "      <td>NaN</td>\n",
       "      <td>NaN</td>\n",
       "    </tr>\n",
       "    <tr>\n",
       "      <th>4</th>\n",
       "      <td>Restricted Cash and Financial Assets</td>\n",
       "      <td>1.1.3</td>\n",
       "      <td>010103</td>\n",
       "      <td>2</td>\n",
       "      <td>Dr</td>\n",
       "      <td>Amex HYSA, Amer 7133</td>\n",
       "      <td>Savings</td>\n",
       "      <td>NaN</td>\n",
       "    </tr>\n",
       "  </tbody>\n",
       "</table>\n",
       "</div>"
      ],
      "text/plain": [
       "                          Account Title Account # Alt Item #  Depth Balance   \n",
       "0                                Assets         1     010000      0      Dr  \\\n",
       "1             Cash And Financial Assets       1.1     010100      1      Dr   \n",
       "2             Cash and Cash Equivalents     1.1.1     010101      2      Dr   \n",
       "3        Financial Assets (Investments)     1.1.2     010102      2      Dr   \n",
       "4  Restricted Cash and Financial Assets     1.1.3     010103      2      Dr   \n",
       "\n",
       "               Category Dimension 1 Dimension 2  \n",
       "0                               NaN         NaN  \n",
       "1                               NaN         NaN  \n",
       "2            Petty Cash    Checking         NaN  \n",
       "3                               NaN         NaN  \n",
       "4  Amex HYSA, Amer 7133     Savings         NaN  "
      ]
     },
     "execution_count": 4,
     "metadata": {},
     "output_type": "execute_result"
    }
   ],
   "source": [
    "df.head()\n"
   ]
  }
 ],
 "metadata": {
  "kernelspec": {
   "display_name": "vpython3.10",
   "language": "python",
   "name": "python3"
  },
  "language_info": {
   "codemirror_mode": {
    "name": "ipython",
    "version": 3
   },
   "file_extension": ".py",
   "mimetype": "text/x-python",
   "name": "python",
   "nbconvert_exporter": "python",
   "pygments_lexer": "ipython3",
   "version": "3.11.0b3"
  },
  "orig_nbformat": 4,
  "vscode": {
   "interpreter": {
    "hash": "d04de1efe396859703aef985adfd3512741c6df91b199e7e529a97e455b907a1"
   }
  }
 },
 "nbformat": 4,
 "nbformat_minor": 2
}
