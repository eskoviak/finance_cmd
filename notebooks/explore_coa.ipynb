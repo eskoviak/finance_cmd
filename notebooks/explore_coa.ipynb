{
 "cells": [
  {
   "cell_type": "code",
   "execution_count": 6,
   "metadata": {},
   "outputs": [],
   "source": [
    "import pandas as pd\n",
    "from pathlib import Path\n",
    "import os\n",
    "\n",
    "home = Path(os.path.abspath('..'))"
   ]
  },
  {
   "cell_type": "code",
   "execution_count": 12,
   "metadata": {},
   "outputs": [
    {
     "name": "stdout",
     "output_type": "stream",
     "text": [
      "Unexpected exception formatting exception. Falling back to standard exception\n"
     ]
    },
    {
     "name": "stderr",
     "output_type": "stream",
     "text": [
      "Traceback (most recent call last):\n",
      "  File \"/Users/edmundlskoviak/Documents/repos/finance_cmd/vpython3.11/lib/python3.11/site-packages/IPython/core/interactiveshell.py\", line 3508, in run_code\n",
      "    exec(code_obj, self.user_global_ns, self.user_ns)\n",
      "    ^^^^^^^^^^^^^^^^^^^^^^^^^^^^^^^^^^^^^^^^^^^^^^^^^\n",
      "  File \"/var/folders/hb/rg77cvs94cj4d3ry4mdmgn6h0000gn/T/ipykernel_37882/1095891410.py\", line 2, in <module>\n",
      "    df = pd.read_csv( home / 'Data Sets' / 'chart_of_acoounts' / 'chart_of_accounts' / 'Basic with Alternative #-Table 1.csv',\n",
      "         ^^^^^^^^^^^^^^^^^^^^^^^^^^^^^^^^^^^^^^^^^^^^^^^^^^^^^^^^^^^^^^^^^^^^^^^^^^^^^^^^^^^^^^^^^^^^^^^^^^^^^^^^^^^^^^^^^^^^^\n",
      "  File \"/Users/edmundlskoviak/Documents/repos/finance_cmd/vpython3.11/lib/python3.11/site-packages/pandas/io/parsers/readers.py\", line 912, in read_csv\n",
      "    return _read(filepath_or_buffer, kwds)\n",
      "           ^^^^^^^^^^^^^^^^^^^^^^^^^^^^^^^\n",
      "  File \"/Users/edmundlskoviak/Documents/repos/finance_cmd/vpython3.11/lib/python3.11/site-packages/pandas/io/parsers/readers.py\", line 577, in _read\n",
      "    parser = TextFileReader(filepath_or_buffer, **kwds)\n",
      "             ^^^^^^^^^^^^^^^^^^^^^^^^^^^^^^^^^^^^^^^^^^\n",
      "  File \"/Users/edmundlskoviak/Documents/repos/finance_cmd/vpython3.11/lib/python3.11/site-packages/pandas/io/parsers/readers.py\", line 1407, in __init__\n",
      "    self._engine = self._make_engine(f, self.engine)\n",
      "                   ^^^^^^^^^^^^^^^^^^^^^^^^^^^^^^^^^\n",
      "  File \"/Users/edmundlskoviak/Documents/repos/finance_cmd/vpython3.11/lib/python3.11/site-packages/pandas/io/parsers/readers.py\", line 1661, in _make_engine\n",
      "    self.handles = get_handle(\n",
      "                   ^^^^^^^^^^^\n",
      "  File \"/Users/edmundlskoviak/Documents/repos/finance_cmd/vpython3.11/lib/python3.11/site-packages/pandas/io/common.py\", line 859, in get_handle\n",
      "    handle = open(\n",
      "             ^^^^^\n",
      "FileNotFoundError: [Errno 2] No such file or directory: '/Users/edmundlskoviak/Documents/repos/finance_cmd/Data Sets/chart_of_acoounts/chart_of_accounts/Basic with Alternative #-Table 1.csv'\n",
      "\n",
      "During handling of the above exception, another exception occurred:\n",
      "\n",
      "Traceback (most recent call last):\n",
      "  File \"/Users/edmundlskoviak/Documents/repos/finance_cmd/vpython3.11/lib/python3.11/site-packages/IPython/core/interactiveshell.py\", line 2105, in showtraceback\n",
      "    stb = self.InteractiveTB.structured_traceback(\n",
      "          ^^^^^^^^^^^^^^^^^^^^^^^^^^^^^^^^^^^^^^^^\n",
      "  File \"/Users/edmundlskoviak/Documents/repos/finance_cmd/vpython3.11/lib/python3.11/site-packages/IPython/core/ultratb.py\", line 1396, in structured_traceback\n",
      "    return FormattedTB.structured_traceback(\n",
      "           ^^^^^^^^^^^^^^^^^^^^^^^^^^^^^^^^^\n",
      "  File \"/Users/edmundlskoviak/Documents/repos/finance_cmd/vpython3.11/lib/python3.11/site-packages/IPython/core/ultratb.py\", line 1287, in structured_traceback\n",
      "    return VerboseTB.structured_traceback(\n",
      "           ^^^^^^^^^^^^^^^^^^^^^^^^^^^^^^^\n",
      "  File \"/Users/edmundlskoviak/Documents/repos/finance_cmd/vpython3.11/lib/python3.11/site-packages/IPython/core/ultratb.py\", line 1140, in structured_traceback\n",
      "    formatted_exception = self.format_exception_as_a_whole(etype, evalue, etb, number_of_lines_of_context,\n",
      "                          ^^^^^^^^^^^^^^^^^^^^^^^^^^^^^^^^^^^^^^^^^^^^^^^^^^^^^^^^^^^^^^^^^^^^^^^^^^^^^^^^\n",
      "  File \"/Users/edmundlskoviak/Documents/repos/finance_cmd/vpython3.11/lib/python3.11/site-packages/IPython/core/ultratb.py\", line 1030, in format_exception_as_a_whole\n",
      "    self.get_records(etb, number_of_lines_of_context, tb_offset) if etb else []\n",
      "    ^^^^^^^^^^^^^^^^^^^^^^^^^^^^^^^^^^^^^^^^^^^^^^^^^^^^^^^^^^^^\n",
      "  File \"/Users/edmundlskoviak/Documents/repos/finance_cmd/vpython3.11/lib/python3.11/site-packages/IPython/core/ultratb.py\", line 1127, in get_records\n",
      "    res = list(stack_data.FrameInfo.stack_data(etb, options=options))[tb_offset:]\n",
      "          ^^^^^^^^^^^^^^^^^^^^^^^^^^^^^^^^^^^^^^^^^^^^^^^^^^^^^^^^^^^\n",
      "  File \"/Users/edmundlskoviak/Documents/repos/finance_cmd/vpython3.11/lib/python3.11/site-packages/stack_data/core.py\", line 597, in stack_data\n",
      "    yield from collapse_repeated(\n",
      "    ^^^^^^^^^^^^^^^^^^^^^^^^^^^^^\n",
      "  File \"/Users/edmundlskoviak/Documents/repos/finance_cmd/vpython3.11/lib/python3.11/site-packages/stack_data/utils.py\", line 83, in collapse_repeated\n",
      "    yield from map(mapper, original_group)\n",
      "    ^^^^^^^^^^^^^^^^^^^^^^^^^^^^^^^^^^^^^^\n",
      "  File \"/Users/edmundlskoviak/Documents/repos/finance_cmd/vpython3.11/lib/python3.11/site-packages/stack_data/core.py\", line 587, in mapper\n",
      "    return cls(f, options)\n",
      "           ^^^^^^^^^^^^^^^\n",
      "  File \"/Users/edmundlskoviak/Documents/repos/finance_cmd/vpython3.11/lib/python3.11/site-packages/stack_data/core.py\", line 551, in __init__\n",
      "    self.executing = Source.executing(frame_or_tb)\n",
      "                     ^^^^^^^^^^^^^^^^^^^^^^^^^^^^^\n",
      "  File \"/Users/edmundlskoviak/Documents/repos/finance_cmd/vpython3.11/lib/python3.11/site-packages/executing/executing.py\", line 378, in executing\n",
      "    assert_(new_stmts <= stmts)\n",
      "    ^^^^^^^^^^^^^^^^^^^^^^^^^^^\n",
      "  File \"/Users/edmundlskoviak/Documents/repos/finance_cmd/vpython3.11/lib/python3.11/site-packages/executing/executing.py\", line 154, in assert_\n",
      "    raise AssertionError(str(message))\n",
      "    ^^^^^^^^^^^^^^^^^^^^^^^^^^^^^^^^^^\n",
      "AssertionError\n"
     ]
    }
   ],
   "source": [
    "columns = ['Account Title', 'Account #', 'Alt Item #', 'Depth', 'Balance', 'Category', 'Dimension 1', 'Dimension 2']\n",
    "df = pd.read_csv( home / 'Data Sets' / 'chart_of_acoounts' / 'chart_of_acoounts' / 'Basic with Alternative #-Table 1.csv',\n",
    "  dtype={\n",
    "      'Account Title': str,\n",
    "      'Account #' : str,\n",
    "      'Alt Item #' : str,\n",
    "      'Depth' : int,\n",
    "      'Balance' : str,\n",
    "      'Category' : str,\n",
    "      'Dimension 1' : str,\n",
    "      'Dimension 2' : str\n",
    "      }, \n",
    "  usecols=columns\n",
    ")\n",
    "\n",
    "df.fillna({'Category':'', 'Dimension1':'', 'Dimension2':''}, inplace=True)"
   ]
  },
  {
   "cell_type": "code",
   "execution_count": 10,
   "metadata": {},
   "outputs": [
    {
     "ename": "NameError",
     "evalue": "name 'df' is not defined",
     "output_type": "error",
     "traceback": [
      "\u001b[0;31m---------------------------------------------------------------------------\u001b[0m",
      "\u001b[0;31mNameError\u001b[0m                                 Traceback (most recent call last)",
      "Cell \u001b[0;32mIn[10], line 1\u001b[0m\n\u001b[0;32m----> 1\u001b[0m df\u001b[39m.\u001b[39minfo()\n",
      "\u001b[0;31mNameError\u001b[0m: name 'df' is not defined"
     ]
    }
   ],
   "source": [
    "df.info()\n"
   ]
  },
  {
   "cell_type": "code",
   "execution_count": 26,
   "metadata": {},
   "outputs": [
    {
     "data": {
      "text/html": [
       "<div>\n",
       "<style scoped>\n",
       "    .dataframe tbody tr th:only-of-type {\n",
       "        vertical-align: middle;\n",
       "    }\n",
       "\n",
       "    .dataframe tbody tr th {\n",
       "        vertical-align: top;\n",
       "    }\n",
       "\n",
       "    .dataframe thead th {\n",
       "        text-align: right;\n",
       "    }\n",
       "</style>\n",
       "<table border=\"1\" class=\"dataframe\">\n",
       "  <thead>\n",
       "    <tr style=\"text-align: right;\">\n",
       "      <th></th>\n",
       "      <th>AccountTitle</th>\n",
       "      <th>LedgerAcct</th>\n",
       "      <th>AltLedgerAcct</th>\n",
       "      <th>Depth</th>\n",
       "      <th>Balance</th>\n",
       "      <th>Category</th>\n",
       "      <th>Dimension1</th>\n",
       "      <th>Dimension2</th>\n",
       "    </tr>\n",
       "  </thead>\n",
       "  <tbody>\n",
       "    <tr>\n",
       "      <th>0</th>\n",
       "      <td>Assets</td>\n",
       "      <td>1</td>\n",
       "      <td>010000</td>\n",
       "      <td>0</td>\n",
       "      <td>Dr</td>\n",
       "      <td></td>\n",
       "      <td></td>\n",
       "      <td></td>\n",
       "    </tr>\n",
       "    <tr>\n",
       "      <th>1</th>\n",
       "      <td>Cash And Financial Assets</td>\n",
       "      <td>1.1</td>\n",
       "      <td>010100</td>\n",
       "      <td>1</td>\n",
       "      <td>Dr</td>\n",
       "      <td></td>\n",
       "      <td></td>\n",
       "      <td></td>\n",
       "    </tr>\n",
       "    <tr>\n",
       "      <th>2</th>\n",
       "      <td>Cash and Cash Equivalents</td>\n",
       "      <td>1.1.1</td>\n",
       "      <td>010101</td>\n",
       "      <td>2</td>\n",
       "      <td>Dr</td>\n",
       "      <td>Petty Cash, Equity Purchase</td>\n",
       "      <td>Checking</td>\n",
       "      <td></td>\n",
       "    </tr>\n",
       "    <tr>\n",
       "      <th>3</th>\n",
       "      <td>Financial Assets (Investments)</td>\n",
       "      <td>1.1.2</td>\n",
       "      <td>010102</td>\n",
       "      <td>2</td>\n",
       "      <td>Dr</td>\n",
       "      <td></td>\n",
       "      <td></td>\n",
       "      <td></td>\n",
       "    </tr>\n",
       "    <tr>\n",
       "      <th>4</th>\n",
       "      <td>Restricted Cash and Financial Assets</td>\n",
       "      <td>1.1.3</td>\n",
       "      <td>010103</td>\n",
       "      <td>2</td>\n",
       "      <td>Dr</td>\n",
       "      <td>Amex HYSA, Amer 7133</td>\n",
       "      <td>Savings</td>\n",
       "      <td></td>\n",
       "    </tr>\n",
       "  </tbody>\n",
       "</table>\n",
       "</div>"
      ],
      "text/plain": [
       "                           AccountTitle LedgerAcct AltLedgerAcct  Depth  \\\n",
       "0                                Assets          1        010000      0   \n",
       "1             Cash And Financial Assets        1.1        010100      1   \n",
       "2             Cash and Cash Equivalents      1.1.1        010101      2   \n",
       "3        Financial Assets (Investments)      1.1.2        010102      2   \n",
       "4  Restricted Cash and Financial Assets      1.1.3        010103      2   \n",
       "\n",
       "  Balance                     Category Dimension1 Dimension2  \n",
       "0      Dr                                                     \n",
       "1      Dr                                                     \n",
       "2      Dr  Petty Cash, Equity Purchase   Checking             \n",
       "3      Dr                                                     \n",
       "4      Dr         Amex HYSA, Amer 7133    Savings             "
      ]
     },
     "execution_count": 26,
     "metadata": {},
     "output_type": "execute_result"
    }
   ],
   "source": [
    "df.head()\n"
   ]
  },
  {
   "cell_type": "code",
   "execution_count": 10,
   "metadata": {},
   "outputs": [
    {
     "name": "stdout",
     "output_type": "stream",
     "text": [
      "0                                                 Assets\n",
      "1                              Cash And Financial Assets\n",
      "2                              Cash and Cash Equivalents\n",
      "3                         Financial Assets (Investments)\n",
      "4                   Restricted Cash and Financial Assets\n",
      "                             ...                        \n",
      "134    Intercompany And Related Party Income And Expense\n",
      "135                Intercompany And Related Party Income\n",
      "136              Intercompany And Related Party Expenses\n",
      "137         Income (Loss) From Equity Method Investments\n",
      "138      Acquisitions In Progress (Business Combination)\n",
      "Name: AccountTitle, Length: 139, dtype: object\n"
     ]
    }
   ],
   "source": [
    "print((df['AccountTitle']))"
   ]
  },
  {
   "cell_type": "code",
   "execution_count": 12,
   "metadata": {},
   "outputs": [
    {
     "name": "stdout",
     "output_type": "stream",
     "text": [
      "73\n"
     ]
    }
   ],
   "source": [
    "items = []\n",
    "for item in df['AccountTitle']:\n",
    "    items.append(len(str(item)))\n",
    "\n",
    "print(max(items))"
   ]
  },
  {
   "cell_type": "code",
   "execution_count": 13,
   "metadata": {},
   "outputs": [],
   "source": [
    "df.loc[:,'AltLedgerAcct'] = '0'+str(df.AltLedgerAcct)"
   ]
  },
  {
   "cell_type": "code",
   "execution_count": 14,
   "metadata": {},
   "outputs": [
    {
     "data": {
      "text/html": [
       "<div>\n",
       "<style scoped>\n",
       "    .dataframe tbody tr th:only-of-type {\n",
       "        vertical-align: middle;\n",
       "    }\n",
       "\n",
       "    .dataframe tbody tr th {\n",
       "        vertical-align: top;\n",
       "    }\n",
       "\n",
       "    .dataframe thead th {\n",
       "        text-align: right;\n",
       "    }\n",
       "</style>\n",
       "<table border=\"1\" class=\"dataframe\">\n",
       "  <thead>\n",
       "    <tr style=\"text-align: right;\">\n",
       "      <th></th>\n",
       "      <th>AccountTitle</th>\n",
       "      <th>LedgerAcct</th>\n",
       "      <th>AltLedgerAcct</th>\n",
       "      <th>Depth</th>\n",
       "      <th>Balance</th>\n",
       "      <th>Category</th>\n",
       "      <th>Dimension1</th>\n",
       "      <th>Dimension2</th>\n",
       "    </tr>\n",
       "  </thead>\n",
       "  <tbody>\n",
       "    <tr>\n",
       "      <th>0</th>\n",
       "      <td>Assets</td>\n",
       "      <td>1</td>\n",
       "      <td>00      10000\\n1      10100\\n2      10101\\n3  ...</td>\n",
       "      <td>0</td>\n",
       "      <td>Dr</td>\n",
       "      <td>NaN</td>\n",
       "      <td>NaN</td>\n",
       "      <td>NaN</td>\n",
       "    </tr>\n",
       "    <tr>\n",
       "      <th>1</th>\n",
       "      <td>Cash And Financial Assets</td>\n",
       "      <td>1.1</td>\n",
       "      <td>00      10000\\n1      10100\\n2      10101\\n3  ...</td>\n",
       "      <td>1</td>\n",
       "      <td>Dr</td>\n",
       "      <td>NaN</td>\n",
       "      <td>NaN</td>\n",
       "      <td>NaN</td>\n",
       "    </tr>\n",
       "    <tr>\n",
       "      <th>2</th>\n",
       "      <td>Cash and Cash Equivalents</td>\n",
       "      <td>1.1.1</td>\n",
       "      <td>00      10000\\n1      10100\\n2      10101\\n3  ...</td>\n",
       "      <td>2</td>\n",
       "      <td>Dr</td>\n",
       "      <td>Petty Cash, Equity Purchase</td>\n",
       "      <td>Checking</td>\n",
       "      <td>NaN</td>\n",
       "    </tr>\n",
       "    <tr>\n",
       "      <th>3</th>\n",
       "      <td>Financial Assets (Investments)</td>\n",
       "      <td>1.1.2</td>\n",
       "      <td>00      10000\\n1      10100\\n2      10101\\n3  ...</td>\n",
       "      <td>2</td>\n",
       "      <td>Dr</td>\n",
       "      <td>NaN</td>\n",
       "      <td>NaN</td>\n",
       "      <td>NaN</td>\n",
       "    </tr>\n",
       "    <tr>\n",
       "      <th>4</th>\n",
       "      <td>Restricted Cash and Financial Assets</td>\n",
       "      <td>1.1.3</td>\n",
       "      <td>00      10000\\n1      10100\\n2      10101\\n3  ...</td>\n",
       "      <td>2</td>\n",
       "      <td>Dr</td>\n",
       "      <td>Amex HYSA, Amer 7133</td>\n",
       "      <td>Savings</td>\n",
       "      <td>NaN</td>\n",
       "    </tr>\n",
       "  </tbody>\n",
       "</table>\n",
       "</div>"
      ],
      "text/plain": [
       "                           AccountTitle LedgerAcct  \\\n",
       "0                                Assets          1   \n",
       "1             Cash And Financial Assets        1.1   \n",
       "2             Cash and Cash Equivalents      1.1.1   \n",
       "3        Financial Assets (Investments)      1.1.2   \n",
       "4  Restricted Cash and Financial Assets      1.1.3   \n",
       "\n",
       "                                       AltLedgerAcct  Depth Balance  \\\n",
       "0  00      10000\\n1      10100\\n2      10101\\n3  ...      0      Dr   \n",
       "1  00      10000\\n1      10100\\n2      10101\\n3  ...      1      Dr   \n",
       "2  00      10000\\n1      10100\\n2      10101\\n3  ...      2      Dr   \n",
       "3  00      10000\\n1      10100\\n2      10101\\n3  ...      2      Dr   \n",
       "4  00      10000\\n1      10100\\n2      10101\\n3  ...      2      Dr   \n",
       "\n",
       "                      Category Dimension1 Dimension2  \n",
       "0                          NaN        NaN        NaN  \n",
       "1                          NaN        NaN        NaN  \n",
       "2  Petty Cash, Equity Purchase   Checking        NaN  \n",
       "3                          NaN        NaN        NaN  \n",
       "4         Amex HYSA, Amer 7133    Savings        NaN  "
      ]
     },
     "execution_count": 14,
     "metadata": {},
     "output_type": "execute_result"
    }
   ],
   "source": [
    "df.head()"
   ]
  }
 ],
 "metadata": {
  "kernelspec": {
   "display_name": "vpython3.10",
   "language": "python",
   "name": "python3"
  },
  "language_info": {
   "codemirror_mode": {
    "name": "ipython",
    "version": 3
   },
   "file_extension": ".py",
   "mimetype": "text/x-python",
   "name": "python",
   "nbconvert_exporter": "python",
   "pygments_lexer": "ipython3",
   "version": "3.11.0b3"
  },
  "orig_nbformat": 4,
  "vscode": {
   "interpreter": {
    "hash": "d04de1efe396859703aef985adfd3512741c6df91b199e7e529a97e455b907a1"
   }
  }
 },
 "nbformat": 4,
 "nbformat_minor": 2
}
